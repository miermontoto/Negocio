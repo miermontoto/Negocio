{
 "cells": [
  {
   "cell_type": "code",
   "execution_count": 2,
   "metadata": {},
   "outputs": [],
   "source": [
    "import pandas as pd\n",
    "from scipy.stats import chi2_contingency\n",
    "from scipy.stats.contingency import expected_freq, margins\n"
   ]
  },
  {
   "cell_type": "markdown",
   "metadata": {},
   "source": [
    "# Discretización"
   ]
  },
  {
   "cell_type": "code",
   "execution_count": 3,
   "metadata": {},
   "outputs": [],
   "source": [
    "iris_filename = 'datasets-uci-iris.csv'\n",
    "iris = pd.read_csv(iris_filename, sep=',', decimal='.',\n",
    "header = None, names = ['sepal_length', 'sepal_width', 'petal_length', 'petal_width','target'])\n",
    "sepal = pd.cut(iris['sepal_length'],4)\n",
    "petal = pd.cut(iris['petal_length'],4)\n",
    "sepalw = pd.cut(iris['sepal_width'],4)\n",
    "petalw = pd.cut(iris['petal_width'],4)\n"
   ]
  },
  {
   "cell_type": "code",
   "execution_count": 4,
   "metadata": {},
   "outputs": [
    {
     "name": "stdout",
     "output_type": "stream",
     "text": [
      "0      (4.296, 5.2]\n",
      "1      (4.296, 5.2]\n",
      "2      (4.296, 5.2]\n",
      "3      (4.296, 5.2]\n",
      "4      (4.296, 5.2]\n",
      "           ...     \n",
      "145      (6.1, 7.0]\n",
      "146      (6.1, 7.0]\n",
      "147      (6.1, 7.0]\n",
      "148      (6.1, 7.0]\n",
      "149      (5.2, 6.1]\n",
      "Name: sepal_length, Length: 150, dtype: category\n",
      "Categories (4, interval[float64, right]): [(4.296, 5.2] < (5.2, 6.1] < (6.1, 7.0] < (7.0, 7.9]]\n"
     ]
    }
   ],
   "source": [
    "print(sepal)\n"
   ]
  },
  {
   "cell_type": "markdown",
   "metadata": {},
   "source": [
    "# Tabla contingencia"
   ]
  },
  {
   "cell_type": "code",
   "execution_count": 5,
   "metadata": {},
   "outputs": [
    {
     "name": "stdout",
     "output_type": "stream",
     "text": [
      "Tabla contingencia\n",
      "\n",
      "sepal_length    (4.296, 5.2]  (5.2, 6.1]  (6.1, 7.0]  (7.0, 7.9]\n",
      "petal_length                                                    \n",
      "(0.994, 2.475]            39          11           0           0\n",
      "(2.475, 3.95]              5           6           0           0\n",
      "(3.95, 5.425]              1          32          28           0\n",
      "(5.425, 6.9]               0           1          15          12\n"
     ]
    }
   ],
   "source": [
    "# Tabla de contingencia\n",
    "print(\"Tabla contingencia\\n\")\n",
    "tcon = pd.crosstab(petal,sepal)\n",
    "print(tcon)\n"
   ]
  },
  {
   "cell_type": "markdown",
   "metadata": {},
   "source": [
    "# Independencia"
   ]
  },
  {
   "cell_type": "code",
   "execution_count": 6,
   "metadata": {},
   "outputs": [
    {
     "name": "stdout",
     "output_type": "stream",
     "text": [
      "\n",
      "Frecuencias esperadas\n",
      "\n",
      "[[15.         16.66666667 14.33333333  4.        ]\n",
      " [ 3.3         3.66666667  3.15333333  0.88      ]\n",
      " [18.3        20.33333333 17.48666667  4.88      ]\n",
      " [ 8.4         9.33333333  8.02666667  2.24      ]]\n"
     ]
    }
   ],
   "source": [
    "print(\"\\nFrecuencias esperadas\\n\")\n",
    "print(expected_freq(tcon))\n"
   ]
  },
  {
   "cell_type": "markdown",
   "metadata": {},
   "source": [
    "- La hipótesis nula es \"las variables son independientes\"\n",
    "- Un p-valor bajo significa que se rechaza la hipótesis nula (el p-valor es la probabilidad de observar el resultado, si la hipótesis nula fuese cierta)"
   ]
  },
  {
   "cell_type": "code",
   "execution_count": 7,
   "metadata": {},
   "outputs": [
    {
     "name": "stdout",
     "output_type": "stream",
     "text": [
      "\n",
      "test chi 2\n",
      "\n",
      "Chi2ContingencyResult(statistic=163.72781790455065, pvalue=1.247012382267777e-30, dof=9, expected_freq=array([[15.        , 16.66666667, 14.33333333,  4.        ],\n",
      "       [ 3.3       ,  3.66666667,  3.15333333,  0.88      ],\n",
      "       [18.3       , 20.33333333, 17.48666667,  4.88      ],\n",
      "       [ 8.4       ,  9.33333333,  8.02666667,  2.24      ]]))\n"
     ]
    }
   ],
   "source": [
    "print(\"\\ntest chi 2\\n\")\n",
    "result = chi2_contingency(tcon)\n",
    "print(result)\n"
   ]
  },
  {
   "cell_type": "markdown",
   "metadata": {},
   "source": [
    "- El p-valor es muy bajo, rechazamos que sean independientes"
   ]
  },
  {
   "cell_type": "code",
   "execution_count": 8,
   "metadata": {},
   "outputs": [
    {
     "name": "stdout",
     "output_type": "stream",
     "text": [
      "\n",
      "Marginales\n",
      "\n",
      "[array([[50],\n",
      "       [11],\n",
      "       [61],\n",
      "       [28]]), array([[45, 50, 43, 12]])]\n",
      "\n",
      "Marginales esperadas\n",
      "\n",
      "[array([[50.],\n",
      "       [11.],\n",
      "       [61.],\n",
      "       [28.]]), array([[45., 50., 43., 12.]])]\n"
     ]
    }
   ],
   "source": [
    "print(\"\\nMarginales\\n\")\n",
    "print(margins(tcon))\n",
    "print(\"\\nMarginales esperadas\\n\")\n",
    "print(margins(expected_freq(tcon)))\n"
   ]
  },
  {
   "cell_type": "markdown",
   "metadata": {},
   "source": [
    "# Normalización"
   ]
  },
  {
   "cell_type": "code",
   "execution_count": 9,
   "metadata": {},
   "outputs": [
    {
     "name": "stdout",
     "output_type": "stream",
     "text": [
      "Estandarizado (version 1)\n",
      "\n",
      "[[ 0.         -1.22474487  1.33630621]\n",
      " [ 1.22474487  0.         -0.26726124]\n",
      " [-1.22474487  1.22474487 -1.06904497]]\n"
     ]
    }
   ],
   "source": [
    "# Ejemplo preprocesado 1\n",
    "from sklearn import preprocessing\n",
    "import numpy as np\n",
    "X = np.array([[ 1., -1.,  2.],\n",
    "               [ 2.,  0.,  0.],\n",
    "               [ 0.,  1., -1.]])\n",
    "X_scaled = preprocessing.scale(X)\n",
    "print(\"Estandarizado (version 1)\\n\")\n",
    "print(X_scaled)\n"
   ]
  },
  {
   "cell_type": "code",
   "execution_count": 10,
   "metadata": {},
   "outputs": [
    {
     "name": "stdout",
     "output_type": "stream",
     "text": [
      "[0. 0. 0.]\n",
      "[1. 1. 1.]\n"
     ]
    }
   ],
   "source": [
    "print(X_scaled.mean(axis=0))\n",
    "print(X_scaled.std(axis=0))\n"
   ]
  },
  {
   "cell_type": "code",
   "execution_count": 11,
   "metadata": {},
   "outputs": [
    {
     "name": "stdout",
     "output_type": "stream",
     "text": [
      "Estandarizado\n",
      "\n",
      "[1.         0.         0.33333333]\n",
      "[0.81649658 0.81649658 1.24721913]\n",
      "[[ 0.         -1.22474487  1.33630621]\n",
      " [ 1.22474487  0.         -0.26726124]\n",
      " [-1.22474487  1.22474487 -1.06904497]]\n"
     ]
    }
   ],
   "source": [
    "# Ejemplo preprocesado 2\n",
    "scaler = preprocessing.StandardScaler().fit(X)\n",
    "print(\"Estandarizado\\n\")\n",
    "print(scaler.mean_)\n",
    "print(scaler.scale_)\n",
    "print(scaler.transform(X))\n"
   ]
  },
  {
   "cell_type": "code",
   "execution_count": 12,
   "metadata": {},
   "outputs": [
    {
     "name": "stdout",
     "output_type": "stream",
     "text": [
      "[0. 0. 0.]\n",
      "[1. 1. 1.]\n"
     ]
    }
   ],
   "source": [
    "print(scaler.transform(X).mean(axis=0))\n",
    "print(scaler.transform(X).std(axis=0))\n"
   ]
  },
  {
   "cell_type": "code",
   "execution_count": 13,
   "metadata": {},
   "outputs": [
    {
     "name": "stdout",
     "output_type": "stream",
     "text": [
      "Escalado min/max\n",
      "\n",
      "[[0.5        0.         1.        ]\n",
      " [1.         0.5        0.33333333]\n",
      " [0.         1.         0.        ]]\n"
     ]
    }
   ],
   "source": [
    "# Ejemplo preprocesado 3\n",
    "X_train = np.array([[ 1., -1.,  2.],\n",
    "                     [ 2.,  0.,  0.],\n",
    "                     [ 0.,  1., -1.]])\n",
    "print(\"Escalado min/max\\n\")\n",
    "min_max_scaler = preprocessing.MinMaxScaler()\n",
    "X_train_minmax = min_max_scaler.fit_transform(X_train)\n",
    "print(X_train_minmax)\n"
   ]
  },
  {
   "cell_type": "code",
   "execution_count": 14,
   "metadata": {},
   "outputs": [
    {
     "name": "stdout",
     "output_type": "stream",
     "text": [
      "Escalado max abs\n",
      "\n",
      "[[ 0.5 -1.   1. ]\n",
      " [ 1.   0.   0. ]\n",
      " [ 0.   1.  -0.5]]\n"
     ]
    }
   ],
   "source": [
    "# Ejemplo preprocesado 4\n",
    "X_train = np.array([[ 1., -1.,  2.],\n",
    "                   [ 2.,  0.,  0.],\n",
    "                     [ 0.,  1., -1.]])\n",
    "\n",
    "max_abs_scaler = preprocessing.MaxAbsScaler()\n",
    "print(\"Escalado max abs\\n\")\n",
    "X_train_maxabs = max_abs_scaler.fit_transform(X_train)\n",
    "print(X_train_maxabs)\n"
   ]
  },
  {
   "cell_type": "code",
   "execution_count": 15,
   "metadata": {},
   "outputs": [
    {
     "name": "stdout",
     "output_type": "stream",
     "text": [
      "Escalado de un conjunto de test con max abs\n",
      "[[-1.5 -1.   2. ]]\n"
     ]
    }
   ],
   "source": [
    "print(\"Escalado de un conjunto de test con max abs\")\n",
    "X_test = np.array([[ -3., -1.,  4.]])\n",
    "X_test_maxabs = max_abs_scaler.transform(X_test)\n",
    "print(X_test_maxabs)\n"
   ]
  },
  {
   "cell_type": "markdown",
   "metadata": {},
   "source": [
    "# Transformaciones del histograma"
   ]
  },
  {
   "cell_type": "code",
   "execution_count": 16,
   "metadata": {},
   "outputs": [],
   "source": [
    "import numpy as np\n",
    "import matplotlib.pyplot as plt\n",
    "from scipy.stats import uniform,norm\n",
    "from sklearn.preprocessing import FunctionTransformer\n",
    "from sklearn.pipeline import make_pipeline\n"
   ]
  },
  {
   "cell_type": "code",
   "execution_count": 17,
   "metadata": {},
   "outputs": [],
   "source": [
    "X = uniform.rvs(loc=0,scale=1,size=1000).reshape(-1,1)\n",
    "\n",
    "def bc(x,l=0):\n",
    "\treturn np.vectorize(lambda t:(t**l-1)/l if l!=0 else np.log(t))(x)\n",
    "\n",
    "def rango(x):\n",
    "\treturn np.argsort(x,axis=0)\n",
    "\n",
    "def rng(x):\n",
    "\tm = x.shape[0]\n",
    "\treturn np.vectorize(lambda x : norm.ppf((x-3.0/8.0)/(m+0.25)))(rango(x))\n"
   ]
  },
  {
   "cell_type": "code",
   "execution_count": 18,
   "metadata": {},
   "outputs": [],
   "source": [
    "# Transformación Box-Cox\n",
    "transformerBC = FunctionTransformer(bc)\n",
    "# Transformación de rango\n",
    "transformerRN = FunctionTransformer(rng)\n",
    "XBC = transformerBC.transform(X)\n",
    "XRN = transformerRN.transform(X)\n"
   ]
  },
  {
   "cell_type": "code",
   "execution_count": 19,
   "metadata": {},
   "outputs": [
    {
     "data": {
      "image/png": "[encoded data removed]",
      "text/plain": [
       "<Figure size 1000x600 with 3 Axes>"
      ]
     },
     "metadata": {},
     "output_type": "display_data"
    }
   ],
   "source": [
    "plt.figure(figsize=(10,6))\n",
    "plt.subplot(131); plt.hist(X,range=(0,1))\n",
    "plt.subplot(132); plt.hist(XBC,range=(-10,10))\n",
    "plt.subplot(133); plt.hist(XRN,range=(-3,3))\n",
    "plt.show()\n"
   ]
  },
  {
   "cell_type": "markdown",
   "metadata": {},
   "source": [
    "# Transformaciones polinómicas"
   ]
  },
  {
   "cell_type": "code",
   "execution_count": 20,
   "metadata": {},
   "outputs": [
    {
     "name": "stdout",
     "output_type": "stream",
     "text": [
      "[[0 1]\n",
      " [2 3]\n",
      " [4 5]]\n"
     ]
    }
   ],
   "source": [
    "import numpy as np\n",
    "from sklearn.preprocessing import PolynomialFeatures\n",
    "from sklearn.preprocessing import FunctionTransformer\n",
    "X = np.arange(6).reshape(3, 2)\n",
    "print(X)\n"
   ]
  },
  {
   "cell_type": "code",
   "execution_count": 21,
   "metadata": {},
   "outputs": [
    {
     "name": "stdout",
     "output_type": "stream",
     "text": [
      "[[ 1.  0.  1.  0.  0.  1.]\n",
      " [ 1.  2.  3.  4.  6.  9.]\n",
      " [ 1.  4.  5. 16. 20. 25.]]\n",
      "[[ 1.  0.  1.  0.]\n",
      " [ 1.  2.  3.  6.]\n",
      " [ 1.  4.  5. 20.]]\n"
     ]
    }
   ],
   "source": [
    "# Todos los terminos\n",
    "poly = PolynomialFeatures(2)\n",
    "print(poly.fit_transform(X))\n",
    "# Solo productos\n",
    "poly = PolynomialFeatures(3,interaction_only=True)\n",
    "print(poly.fit_transform(X))\n"
   ]
  },
  {
   "cell_type": "code",
   "execution_count": 22,
   "metadata": {},
   "outputs": [
    {
     "name": "stdout",
     "output_type": "stream",
     "text": [
      "[[0.         0.69314718]\n",
      " [1.09861229 1.38629436]\n",
      " [1.60943791 1.79175947]]\n"
     ]
    }
   ],
   "source": [
    "# A la medida\n",
    "transformer = FunctionTransformer(np.log1p)\n",
    "print(transformer.transform(X))\n"
   ]
  },
  {
   "cell_type": "markdown",
   "metadata": {},
   "source": [
    "# Imputación"
   ]
  },
  {
   "cell_type": "code",
   "execution_count": 29,
   "metadata": {},
   "outputs": [
    {
     "name": "stdout",
     "output_type": "stream",
     "text": [
      "[-1.08011358e-01  4.64204584e-02  2.05586264e-02  2.68673382e+00\n",
      " -1.77666112e+01  3.80986521e+00  6.92224640e-04 -1.47556685e+00\n",
      "  3.06049479e-01 -1.23345939e-02 -9.52747232e-01  9.31168327e-03\n",
      " -5.24758378e-01]\n",
      "MSE modelo lineal: 21.89\n",
      "R2: 0.74\n"
     ]
    }
   ],
   "source": [
    "\"\"\"\n",
    "======================================================\n",
    "Imputacion de valores perdidos en el preprocesamiento\n",
    "======================================================\n",
    "\n",
    "Comparacion de diferentes metodos de imputacion\n",
    "\n",
    "\"\"\"\n",
    "import numpy as np\n",
    "\n",
    "# from sklearn.datasets import load_boston\n",
    "from sklearn.datasets import make_regression\n",
    "from sklearn.ensemble import RandomForestRegressor\n",
    "from sklearn.pipeline import Pipeline\n",
    "from sklearn.impute import SimpleImputer\n",
    "from sklearn.model_selection import cross_val_score\n",
    "from sklearn import linear_model\n",
    "\n",
    "rng = np.random.RandomState(0)\n",
    "\n",
    "lineal = False\n",
    "if lineal:\n",
    "    X_full, y_full = make_regression(n_samples=100, n_features=10, n_informative=5, n_targets=1, bias=0.0,\n",
    "    effective_rank=3, tail_strength=0.5, noise=2.5, shuffle=True, coef=False, random_state=None)\n",
    "else:\n",
    "    # dataset = load_boston()\n",
    "    # X_full, y_full = dataset.data, dataset.target\n",
    "    data_url = \"http://lib.stat.cmu.edu/datasets/boston\"\n",
    "    raw_df = pd.read_csv(data_url, sep=\"\\s+\", skiprows=22, header=None)\n",
    "    data = np.hstack([raw_df.values[::2, :], raw_df.values[1::2, :2]])\n",
    "    target = raw_df.values[1::2, 2]\n",
    "    X_full, y_full = data, target\n",
    "\n",
    "clf = linear_model.LinearRegression()\n",
    "clf.fit(X_full,y_full)\n",
    "print (clf.coef_)\n",
    "clf.predict(X_full)\n",
    "\n",
    "# Error train del modelo lineal (para depuracion)\n",
    "print(\"MSE modelo lineal: %.2f\" % np.mean((clf.predict(X_full) - y_full) ** 2))\n",
    "print('R2: %.2f' % clf.score(X_full, y_full))\n",
    "\n",
    "n_samples = X_full.shape[0]\n",
    "n_features = X_full.shape[1]\n"
   ]
  },
  {
   "cell_type": "code",
   "execution_count": 30,
   "metadata": {},
   "outputs": [
    {
     "name": "stdout",
     "output_type": "stream",
     "text": [
      "R2 del dataset completo = 0.62\n"
     ]
    }
   ],
   "source": [
    "# Estimacion del R2 con validacion cruzada para Random Forest\n",
    "# para el dataset completo\n",
    "estimator = RandomForestRegressor(random_state=0, n_estimators=100)\n",
    "score = cross_val_score(estimator, X_full, y_full,cv=5).mean()\n",
    "print(\"R2 del dataset completo = %.2f\" % score)\n",
    "\n",
    "# Se introducen valores perdidos en el 75% de los ejemplos\n",
    "missing_rate = 0.75\n",
    "n_missing_samples = int(np.floor(n_samples * missing_rate))\n",
    "missing_samples = np.hstack((np.zeros(n_samples - n_missing_samples,\n",
    "                                      dtype=bool),\n",
    "                             np.ones(n_missing_samples,\n",
    "                                     dtype=bool)))\n",
    "rng.shuffle(missing_samples)\n",
    "missing_features = rng.randint(0, n_features, n_missing_samples)\n"
   ]
  },
  {
   "cell_type": "code",
   "execution_count": 31,
   "metadata": {},
   "outputs": [
    {
     "name": "stdout",
     "output_type": "stream",
     "text": [
      "R2 del dataset con 75% de valores perdidos = 0.41\n",
      "R2 del dataset con 75% de valores perdidos, imputacion a 0= 0.43\n"
     ]
    }
   ],
   "source": [
    "# Estimacion del error eliminando todas las instancias que tengan valores perdidos\n",
    "X_filtered = X_full[~missing_samples, :]\n",
    "y_filtered = y_full[~missing_samples]\n",
    "estimator = RandomForestRegressor(random_state=0, n_estimators=100)\n",
    "score = cross_val_score(estimator, X_filtered, y_filtered,cv=5).mean()\n",
    "print(\"R2 del dataset con 75%% de valores perdidos = %.2f\" % score)\n",
    "\n",
    "# Se asigna cero a todas las variables con valor perdido\n",
    "X_missing = X_full.copy()\n",
    "X_missing[np.where(missing_samples)[0], missing_features] = 0\n",
    "y_missing = y_full.copy()\n",
    "\n",
    "# Estimacion del error con ceros en los valores perdidos\n",
    "score = cross_val_score(estimator, X_missing, y_missing,cv=5).mean()\n",
    "print(\"R2 del dataset con 75%% de valores perdidos, imputacion a 0= %.2f\" % score)\n"
   ]
  },
  {
   "cell_type": "code",
   "execution_count": 32,
   "metadata": {},
   "outputs": [
    {
     "name": "stdout",
     "output_type": "stream",
     "text": [
      "R2 del dataset con 75% de valores perdidos, imputacion con la media = 0.60\n"
     ]
    }
   ],
   "source": [
    "# Se reemplazan los ceros por la media de la columna\n",
    "estimator = Pipeline([(\"imputer\", SimpleImputer(missing_values=0,\n",
    "                                          strategy=\"mean\")),\n",
    "                      (\"forest\", RandomForestRegressor(random_state=0,\n",
    "                                                       n_estimators=100))])\n",
    "score = cross_val_score(estimator, X_missing, y_missing,cv=5).mean()\n",
    "print(\"R2 del dataset con 75%% de valores perdidos, imputacion con la media = %.2f\" % score)\n"
   ]
  },
  {
   "cell_type": "code",
   "execution_count": 33,
   "metadata": {},
   "outputs": [
    {
     "name": "stdout",
     "output_type": "stream",
     "text": [
      "R2 del dataset con 75% de valores perdidos, imputacion con la mediana = 0.60\n"
     ]
    }
   ],
   "source": [
    "# Se reemplazan los ceros por la mediana de la columna\n",
    "estimator = Pipeline([(\"imputer\", SimpleImputer(missing_values=0,\n",
    "                                          strategy=\"median\")),\n",
    "                      (\"forest\", RandomForestRegressor(random_state=0,\n",
    "                                                       n_estimators=100))])\n",
    "score = cross_val_score(estimator, X_missing, y_missing,cv=5).mean()\n",
    "print(\"R2 del dataset con 75%% de valores perdidos, imputacion con la mediana = %.2f\" % score)\n"
   ]
  },
  {
   "cell_type": "markdown",
   "metadata": {},
   "source": [
    "# Imputación avanzada"
   ]
  },
  {
   "cell_type": "code",
   "execution_count": 28,
   "metadata": {},
   "outputs": [
    {
     "name": "stdout",
     "output_type": "stream",
     "text": [
      "[-1.08011358e-01  4.64204584e-02  2.05586264e-02  2.68673382e+00\n",
      " -1.77666112e+01  3.80986521e+00  6.92224640e-04 -1.47556685e+00\n",
      "  3.06049479e-01 -1.23345939e-02 -9.52747232e-01  9.31168327e-03\n",
      " -5.24758378e-01]\n",
      "MSE modelo lineal: 21.89\n",
      "R2: 0.74\n"
     ]
    }
   ],
   "source": [
    "# (parte duplicada del ejemplo anterior)\n",
    "import numpy as np\n",
    "\n",
    "# from sklearn.datasets import load_boston\n",
    "from sklearn.datasets import make_regression\n",
    "from sklearn.ensemble import RandomForestRegressor\n",
    "from sklearn.pipeline import Pipeline\n",
    "from sklearn.impute import SimpleImputer\n",
    "from sklearn.model_selection import cross_val_score\n",
    "from sklearn import linear_model\n",
    "\n",
    "rng = np.random.RandomState(0)\n",
    "\n",
    "lineal = False\n",
    "if lineal:\n",
    "    X_full, y_full = make_regression(n_samples=100, n_features=10, n_informative=5, n_targets=1, bias=0.0,\n",
    "    effective_rank=3, tail_strength=0.5, noise=2.5, shuffle=True, coef=False, random_state=None)\n",
    "else:\n",
    "    # dataset = load_boston()\n",
    "    # X_full, y_full = dataset.data, dataset.target\n",
    "    data_url = \"http://lib.stat.cmu.edu/datasets/boston\"\n",
    "    raw_df = pd.read_csv(data_url, sep=\"\\s+\", skiprows=22, header=None)\n",
    "    data = np.hstack([raw_df.values[::2, :], raw_df.values[1::2, :2]])\n",
    "    target = raw_df.values[1::2, 2]\n",
    "    X_full, y_full = data, target\n",
    "\n",
    "clf = linear_model.LinearRegression()\n",
    "clf.fit(X_full,y_full)\n",
    "print (clf.coef_)\n",
    "clf.predict(X_full)\n",
    "\n",
    "# Error train del modelo lineal (para depuracion)\n",
    "print(\"MSE modelo lineal: %.2f\" % np.mean((clf.predict(X_full) - y_full) ** 2))\n",
    "print('R2: %.2f' % clf.score(X_full, y_full))\n",
    "\n",
    "n_samples = X_full.shape[0]\n",
    "n_features = X_full.shape[1]\n"
   ]
  },
  {
   "cell_type": "code",
   "execution_count": 34,
   "metadata": {},
   "outputs": [
    {
     "name": "stdout",
     "output_type": "stream",
     "text": [
      "R2 del dataset completo = 0.62\n"
     ]
    }
   ],
   "source": [
    "\n",
    "# Estimacion del R2 con validacion cruzada para Random Forest\n",
    "# para el dataset completo\n",
    "estimator = RandomForestRegressor(random_state=0, n_estimators=100)\n",
    "score = cross_val_score(estimator, X_full, y_full, cv=5).mean()\n",
    "print(\"R2 del dataset completo = %.2f\" % score)\n"
   ]
  },
  {
   "cell_type": "code",
   "execution_count": 35,
   "metadata": {},
   "outputs": [
    {
     "name": "stdout",
     "output_type": "stream",
     "text": [
      "R2 del dataset con 75% de valores perdidos = 0.56\n"
     ]
    }
   ],
   "source": [
    "\n",
    "# Se introducen valores perdidos en el 75% de los ejemplos\n",
    "missing_rate = 0.75\n",
    "n_missing_samples = int(np.floor(n_samples * missing_rate))\n",
    "missing_samples = np.hstack((np.zeros(n_samples - n_missing_samples,\n",
    "                                      dtype=bool),\n",
    "                             np.ones(n_missing_samples,\n",
    "                                     dtype=bool)))\n",
    "rng.shuffle(missing_samples)\n",
    "missing_features = rng.randint(0, n_features, n_missing_samples)\n",
    "\n",
    "# Estimacion del error eliminando todas las instancias que tengan valores perdidos\n",
    "X_filtered = X_full[~missing_samples, :]\n",
    "y_filtered = y_full[~missing_samples]\n",
    "estimator = RandomForestRegressor(random_state=0, n_estimators=100)\n",
    "score = cross_val_score(estimator, X_filtered, y_filtered, cv=5).mean()\n",
    "print(\"R2 del dataset con 75%% de valores perdidos = %.2f\" % score)\n"
   ]
  },
  {
   "cell_type": "code",
   "execution_count": 56,
   "metadata": {},
   "outputs": [
    {
     "name": "stdout",
     "output_type": "stream",
     "text": [
      "R2 del dataset con 75% de valores perdidos, imputacion a 0= 0.43\n",
      "R2 del dataset con 75% de valores perdidos, imputacion con la media = 0.60\n"
     ]
    }
   ],
   "source": [
    "\n",
    "# Se asigna cero a todas las variables con valor perdido\n",
    "X_missing = X_full.copy()\n",
    "X_missing[np.where(missing_samples)[0], missing_features] = 0\n",
    "y_missing = y_full.copy()\n",
    "\n",
    "# Estimacion del error con ceros en los valores perdidos\n",
    "score = cross_val_score(estimator, X_missing, y_missing, cv=5).mean()\n",
    "print(\"R2 del dataset con 75%% de valores perdidos, imputacion a 0= %.2f\" % score)\n",
    "\n",
    "# Se reemplazan los ceros por la media de la columna\n",
    "estimator = Pipeline([(\"imputer\", SimpleImputer(missing_values=0,\n",
    "                                          strategy=\"mean\")),\n",
    "                      (\"forest\", RandomForestRegressor(random_state=0,\n",
    "                                                       n_estimators=100))])\n",
    "score = cross_val_score(estimator, X_missing, y_missing, cv=5).mean()\n",
    "print(\"R2 del dataset con 75%% de valores perdidos, imputacion con la media = %.2f\" % score)\n"
   ]
  },
  {
   "cell_type": "code",
   "execution_count": 57,
   "metadata": {},
   "outputs": [
    {
     "name": "stdout",
     "output_type": "stream",
     "text": [
      "R2 del dataset con 75% de valores perdidos, imputacion con la mediana = 0.60\n"
     ]
    }
   ],
   "source": [
    "\n",
    "# Se reemplazan los ceros por la mediana de la columna\n",
    "estimator = Pipeline([(\"imputer\", SimpleImputer(missing_values=0,\n",
    "                                          strategy=\"median\")),\n",
    "                      (\"forest\", RandomForestRegressor(random_state=0,\n",
    "                                                       n_estimators=100))])\n",
    "score = cross_val_score(estimator, X_missing, y_missing, cv=5).mean()\n",
    "print(\"R2 del dataset con 75%% de valores perdidos, imputacion con la mediana = %.2f\" % score)\n"
   ]
  },
  {
   "cell_type": "code",
   "execution_count": 62,
   "metadata": {},
   "outputs": [],
   "source": [
    "# ! pip install fancyimpute\n"
   ]
  },
  {
   "cell_type": "code",
   "execution_count": 72,
   "metadata": {},
   "outputs": [],
   "source": [
    "from fancyimpute import KNN, IterativeSVD, SoftImpute\n",
    "# Imputacion con otros metodos de ML\n",
    "X_incompleta = X_full.copy()\n",
    "X_incompleta[np.where(missing_samples)[0], missing_features] = None\n",
    "y_incompleta = y_full.copy()\n"
   ]
  },
  {
   "cell_type": "code",
   "execution_count": 76,
   "metadata": {},
   "outputs": [
    {
     "name": "stdout",
     "output_type": "stream",
     "text": [
      "Imputing row 1/506 with 1 missing, elapsed time: 0.035\n",
      "Imputing row 101/506 with 1 missing, elapsed time: 0.036\n",
      "Imputing row 201/506 with 0 missing, elapsed time: 0.037\n",
      "Imputing row 301/506 with 1 missing, elapsed time: 0.037\n",
      "Imputing row 401/506 with 1 missing, elapsed time: 0.038\n",
      "Imputing row 501/506 with 1 missing, elapsed time: 0.038\n",
      "R2 del dataset con 75% de valores perdidos, imputacion KNN= 0.61\n"
     ]
    }
   ],
   "source": [
    "# Imputacion KNN\n",
    "X_filled_knn = KNN(k=3).fit_transform(X_incompleta)\n",
    "score = cross_val_score(estimator, X_filled_knn, y_incompleta, cv=5).mean()\n",
    "print(\"R2 del dataset con 75%% de valores perdidos, imputacion KNN= %.2f\" % score)\n"
   ]
  },
  {
   "cell_type": "code",
   "execution_count": 75,
   "metadata": {},
   "outputs": [
    {
     "name": "stdout",
     "output_type": "stream",
     "text": [
      "[IterativeSVD] Iter 1: observed MAE=20.288648\n",
      "[IterativeSVD] Iter 2: observed MAE=4.667829\n",
      "[IterativeSVD] Iter 3: observed MAE=1.517313\n",
      "[IterativeSVD] Iter 4: observed MAE=0.492689\n",
      "[IterativeSVD] Iter 5: observed MAE=0.084965\n",
      "R2 del dataset con 75% de valores perdidos, imputacion IterativeSVD= 0.64\n"
     ]
    }
   ],
   "source": [
    "# Imputacion IterativeSVD\n",
    "X_filled_svd = IterativeSVD().fit_transform(X_incompleta)\n",
    "score = cross_val_score(estimator, X_filled_svd, y_incompleta, cv=5).mean()\n",
    "print(\"R2 del dataset con 75%% de valores perdidos, imputacion IterativeSVD= %.2f\" % score)\n"
   ]
  },
  {
   "cell_type": "code",
   "execution_count": 74,
   "metadata": {},
   "outputs": [
    {
     "name": "stdout",
     "output_type": "stream",
     "text": [
      "[SoftImpute] Max Singular Value of X_init = 12149.111840\n",
      "[SoftImpute] Iter 1: observed MAE=4.203284 rank=4\n",
      "[SoftImpute] Iter 2: observed MAE=4.196349 rank=4\n",
      "[SoftImpute] Iter 3: observed MAE=4.209939 rank=4\n",
      "[SoftImpute] Iter 4: observed MAE=4.213984 rank=4\n",
      "[SoftImpute] Iter 5: observed MAE=4.211957 rank=4\n",
      "[SoftImpute] Iter 6: observed MAE=4.207001 rank=4\n",
      "[SoftImpute] Iter 7: observed MAE=4.201231 rank=4\n",
      "[SoftImpute] Iter 8: observed MAE=4.195454 rank=4\n",
      "[SoftImpute] Iter 9: observed MAE=4.189908 rank=4\n",
      "[SoftImpute] Iter 10: observed MAE=4.184736 rank=4\n",
      "[SoftImpute] Iter 11: observed MAE=4.179845 rank=4\n",
      "[SoftImpute] Iter 12: observed MAE=4.175124 rank=4\n",
      "[SoftImpute] Iter 13: observed MAE=4.170522 rank=4\n",
      "[SoftImpute] Iter 14: observed MAE=4.166128 rank=4\n",
      "[SoftImpute] Iter 15: observed MAE=4.161932 rank=4\n",
      "[SoftImpute] Iter 16: observed MAE=4.157904 rank=4\n",
      "[SoftImpute] Iter 17: observed MAE=4.153975 rank=4\n",
      "[SoftImpute] Iter 18: observed MAE=4.150339 rank=4\n",
      "[SoftImpute] Iter 19: observed MAE=4.146888 rank=4\n",
      "[SoftImpute] Iter 20: observed MAE=4.143590 rank=4\n",
      "[SoftImpute] Iter 21: observed MAE=4.140413 rank=4\n",
      "[SoftImpute] Iter 22: observed MAE=4.137354 rank=4\n",
      "[SoftImpute] Iter 23: observed MAE=4.134407 rank=4\n",
      "[SoftImpute] Iter 24: observed MAE=4.131550 rank=4\n",
      "[SoftImpute] Iter 25: observed MAE=4.128799 rank=4\n",
      "[SoftImpute] Iter 26: observed MAE=4.126169 rank=4\n",
      "[SoftImpute] Iter 27: observed MAE=4.123710 rank=4\n",
      "[SoftImpute] Iter 28: observed MAE=4.121407 rank=4\n",
      "[SoftImpute] Iter 29: observed MAE=4.119205 rank=4\n",
      "[SoftImpute] Iter 30: observed MAE=4.117159 rank=4\n",
      "[SoftImpute] Iter 31: observed MAE=4.115247 rank=4\n",
      "[SoftImpute] Iter 32: observed MAE=4.113526 rank=4\n",
      "[SoftImpute] Iter 33: observed MAE=4.111907 rank=4\n",
      "[SoftImpute] Iter 34: observed MAE=4.110389 rank=4\n",
      "[SoftImpute] Iter 35: observed MAE=4.108941 rank=4\n",
      "[SoftImpute] Iter 36: observed MAE=4.107542 rank=4\n",
      "[SoftImpute] Iter 37: observed MAE=4.106221 rank=4\n",
      "[SoftImpute] Iter 38: observed MAE=4.104981 rank=4\n",
      "[SoftImpute] Iter 39: observed MAE=4.103825 rank=4\n",
      "[SoftImpute] Iter 40: observed MAE=4.102726 rank=4\n",
      "[SoftImpute] Iter 41: observed MAE=4.101691 rank=4\n",
      "[SoftImpute] Iter 42: observed MAE=4.100710 rank=4\n",
      "[SoftImpute] Iter 43: observed MAE=4.099768 rank=4\n",
      "[SoftImpute] Iter 44: observed MAE=4.098868 rank=4\n",
      "[SoftImpute] Iter 45: observed MAE=4.098007 rank=4\n",
      "[SoftImpute] Iter 46: observed MAE=4.097194 rank=4\n",
      "[SoftImpute] Iter 47: observed MAE=4.096428 rank=4\n",
      "[SoftImpute] Iter 48: observed MAE=4.095708 rank=4\n",
      "[SoftImpute] Iter 49: observed MAE=4.095026 rank=4\n",
      "[SoftImpute] Iter 50: observed MAE=4.094381 rank=4\n",
      "[SoftImpute] Iter 51: observed MAE=4.093774 rank=4\n",
      "[SoftImpute] Iter 52: observed MAE=4.093208 rank=4\n",
      "[SoftImpute] Iter 53: observed MAE=4.092675 rank=4\n",
      "[SoftImpute] Iter 54: observed MAE=4.092168 rank=4\n",
      "[SoftImpute] Iter 55: observed MAE=4.091686 rank=4\n",
      "[SoftImpute] Iter 56: observed MAE=4.091241 rank=4\n",
      "[SoftImpute] Iter 57: observed MAE=4.090823 rank=4\n",
      "[SoftImpute] Iter 58: observed MAE=4.090427 rank=4\n",
      "[SoftImpute] Iter 59: observed MAE=4.090054 rank=4\n",
      "[SoftImpute] Iter 60: observed MAE=4.089702 rank=4\n",
      "[SoftImpute] Iter 61: observed MAE=4.089373 rank=4\n",
      "[SoftImpute] Iter 62: observed MAE=4.089071 rank=4\n",
      "[SoftImpute] Iter 63: observed MAE=4.088783 rank=4\n",
      "[SoftImpute] Iter 64: observed MAE=4.088517 rank=4\n",
      "[SoftImpute] Iter 65: observed MAE=4.088272 rank=4\n",
      "[SoftImpute] Iter 66: observed MAE=4.088039 rank=4\n",
      "[SoftImpute] Iter 67: observed MAE=4.087817 rank=4\n",
      "[SoftImpute] Iter 68: observed MAE=4.087607 rank=4\n",
      "[SoftImpute] Iter 69: observed MAE=4.087409 rank=4\n",
      "[SoftImpute] Iter 70: observed MAE=4.087221 rank=4\n",
      "[SoftImpute] Iter 71: observed MAE=4.087046 rank=4\n",
      "[SoftImpute] Iter 72: observed MAE=4.086880 rank=4\n",
      "[SoftImpute] Iter 73: observed MAE=4.086722 rank=4\n",
      "[SoftImpute] Iter 74: observed MAE=4.086571 rank=4\n",
      "[SoftImpute] Iter 75: observed MAE=4.086426 rank=4\n",
      "[SoftImpute] Iter 76: observed MAE=4.086289 rank=4\n",
      "[SoftImpute] Iter 77: observed MAE=4.086159 rank=4\n",
      "[SoftImpute] Iter 78: observed MAE=4.086036 rank=4\n",
      "[SoftImpute] Iter 79: observed MAE=4.085918 rank=4\n",
      "[SoftImpute] Iter 80: observed MAE=4.085809 rank=4\n",
      "[SoftImpute] Iter 81: observed MAE=4.085706 rank=4\n",
      "[SoftImpute] Iter 82: observed MAE=4.085607 rank=4\n",
      "[SoftImpute] Iter 83: observed MAE=4.085512 rank=4\n",
      "[SoftImpute] Iter 84: observed MAE=4.085421 rank=4\n",
      "[SoftImpute] Stopped after iteration 84 for lambda=242.982237\n",
      "R2 del dataset con 75% de valores perdidos, imputacion Soft Impute= 0.63\n"
     ]
    }
   ],
   "source": [
    "# Imputacion SoftImpute\n",
    "X_filled_si = SoftImpute().fit_transform(X_incompleta)\n",
    "score = cross_val_score(estimator, X_filled_si, y_incompleta, cv=5).mean()\n",
    "print(\"R2 del dataset con 75%% de valores perdidos, imputacion Soft Impute= %.2f\" % score)\n"
   ]
  },
  {
   "cell_type": "markdown",
   "metadata": {},
   "source": [
    "# Selección de Instancias"
   ]
  },
  {
   "cell_type": "code",
   "execution_count": 81,
   "metadata": {},
   "outputs": [],
   "source": [
    "import random\n",
    "import numpy as np\n",
    "import matplotlib.pyplot as plt\n",
    "import pandas as pd\n",
    "\n",
    "def NN(X,S,y,x):\n",
    "\tN = len(S)\n",
    "\td = np.zeros(N)\n",
    "\tfor i in range(N):\n",
    "\t\td[i] = np.linalg.norm(X[S[i]]-x)\n",
    "\treturn S[np.argmin(d)]\n",
    "\n",
    "\n",
    "def CNN_muy_lento(X,y):\n",
    "\t# Seleccion de instancias\n",
    "\tipos = np.where(y>0)[0]\n",
    "\tineg = np.where(y<0)[0]\n",
    "\tppos = random.choice(ipos)\n",
    "\tpneg = random.choice(ineg)\n",
    "\tS = [ppos,pneg]\n",
    "\t# Se clasifican todas las instancias con S\n",
    "\tseguir = True\n",
    "\tN = len(X)\n",
    "\titeracion = 0\n",
    "\twhile seguir:\n",
    "\t\tseguir = False\n",
    "\t\titeracion += 1\n",
    "\t\tfor i in range(N):\n",
    "\t\t\tvecino = NN(X.values,S,y,X.iloc[i])\n",
    "\t\t\tif y[vecino]!=y[i]:\n",
    "\t\t\t\tseguir = True\n",
    "\t\t\t\tS = np.concatenate((S,[i]))\n",
    "\t\tprint(iteracion,len(S))\n",
    "\treturn S\n",
    "\n",
    "def dibuja(X,y,Xreducida,yreducida,cl):\n",
    "\tpositivos = np.where(y == cl[1])[0]\n",
    "\tnegativos = np.where(y == cl[0])[0]\n",
    "\tax1=plt.subplot(121)\n",
    "\tax1.set_xlim([min(X.values[:,0]),max(X.values[:,0])])\n",
    "\tax1.set_ylim([min(X.values[:,1]),max(X.values[:,1])])\n",
    "\tax1.scatter(X.iloc[positivos].V1,X.iloc[positivos].V2,color='blue')\n",
    "\tax1.scatter(X.iloc[negativos].V1,X.iloc[negativos].V2,color='red')\n",
    "\tax2=plt.subplot(122)\n",
    "\tposreducida = np.where(yreducida==cl[1])[0]\n",
    "\tnegreducida = np.where(yreducida==cl[0])[0]\n",
    "\tax2.set_xlim([min(X.values[:,0]),max(X.values[:,0])])\n",
    "\tax2.set_ylim([min(X.values[:,1]),max(X.values[:,1])])\n",
    "\tax2.scatter(Xreducida.iloc[posreducida,0],Xreducida.iloc[posreducida,1],color='blue')\n",
    "\tax2.scatter(Xreducida.iloc[negreducida,0],Xreducida.iloc[negreducida,1],color='red')\n",
    "\tplt.show()\n"
   ]
  },
  {
   "cell_type": "code",
   "execution_count": 82,
   "metadata": {},
   "outputs": [],
   "source": [
    "banana_filename = 'banana_data.csv'\n",
    "banana = pd.read_csv(banana_filename, sep=',', decimal='.', header=None,names= ['clase', 'V1', 'V2'])\n"
   ]
  },
  {
   "cell_type": "code",
   "execution_count": 83,
   "metadata": {},
   "outputs": [
    {
     "name": "stdout",
     "output_type": "stream",
     "text": [
      "1 843\n",
      "2 1155\n",
      "3 1177\n",
      "4 1177\n"
     ]
    },
    {
     "data": {
      "image/png": "[encoded data removed]",
      "text/plain": [
       "<Figure size 640x480 with 2 Axes>"
      ]
     },
     "metadata": {},
     "output_type": "display_data"
    }
   ],
   "source": [
    "S = CNN_muy_lento(X,y)\n",
    "Xreducida = X.loc[S]\n",
    "yreducida = y.loc[S]\n",
    "dibuja(X,y,Xreducida,yreducida,[-1,1])\n"
   ]
  },
  {
   "cell_type": "code",
   "execution_count": 88,
   "metadata": {},
   "outputs": [],
   "source": [
    "# pip install imblearn\n"
   ]
  },
  {
   "cell_type": "code",
   "execution_count": 89,
   "metadata": {},
   "outputs": [
    {
     "data": {
      "image/png": "[encoded data removed]",
      "text/plain": [
       "<Figure size 640x480 with 2 Axes>"
      ]
     },
     "metadata": {},
     "output_type": "display_data"
    }
   ],
   "source": [
    "banana2 = banana.copy()\n",
    "X2 = banana2.iloc[:,1:3]\n",
    "y2 = banana2.iloc[:,0]\n",
    "from imblearn.under_sampling import CondensedNearestNeighbour\n",
    "cnn = CondensedNearestNeighbour(sampling_strategy=\"not minority\")\n",
    "Xreducida2, yreducida2 = cnn.fit_resample(X2, y2)\n",
    "dibuja(X2,y2,Xreducida2,yreducida2,[-1,1])\n"
   ]
  },
  {
   "cell_type": "code",
   "execution_count": 90,
   "metadata": {},
   "outputs": [
    {
     "data": {
      "image/png": "[encoded data removed]",
      "text/plain": [
       "<Figure size 640x480 with 2 Axes>"
      ]
     },
     "metadata": {},
     "output_type": "display_data"
    }
   ],
   "source": [
    "cnn = CondensedNearestNeighbour()\n",
    "Xreducida2, yreducida2 = cnn.fit_resample(X2, y2)\n",
    "dibuja(X2,y2,Xreducida2,yreducida2,[-1,1])\n"
   ]
  },
  {
   "cell_type": "markdown",
   "metadata": {},
   "source": [
    "# Selección de características"
   ]
  },
  {
   "cell_type": "code",
   "execution_count": 91,
   "metadata": {},
   "outputs": [],
   "source": [
    "import numpy as np\n",
    "import matplotlib.pyplot as plt\n",
    "from sklearn.feature_selection import SelectKBest\n",
    "from sklearn.feature_selection import chi2\n",
    "\n",
    "import pandas as pd\n"
   ]
  },
  {
   "cell_type": "code",
   "execution_count": 92,
   "metadata": {},
   "outputs": [],
   "source": [
    "iris_filename = 'datasets-uci-iris.csv'\n",
    "iris = pd.read_csv(iris_filename, sep=',', decimal='.',\n",
    "\theader=None,names= ['sepal_length', 'sepal_width', 'petal_length', 'petal_width','target'])\n"
   ]
  },
  {
   "cell_type": "code",
   "execution_count": 93,
   "metadata": {},
   "outputs": [
    {
     "name": "stdout",
     "output_type": "stream",
     "text": [
      "[False False  True  True]\n"
     ]
    }
   ],
   "source": [
    "sel = SelectKBest(chi2,k=2)\n",
    "iris_reducido1 = sel.fit_transform(iris.iloc[:,0:4],iris.iloc[:,4])\n",
    "\n",
    "print(sel.get_support())\n"
   ]
  },
  {
   "cell_type": "markdown",
   "metadata": {},
   "source": [
    "### RFECV"
   ]
  },
  {
   "cell_type": "code",
   "execution_count": 111,
   "metadata": {},
   "outputs": [
    {
     "name": "stdout",
     "output_type": "stream",
     "text": [
      "[1 1 1 1]\n",
      "[ True  True  True  True]\n",
      "Numero de caracteristicas seleccionadas : 4\n"
     ]
    }
   ],
   "source": [
    "from sklearn.feature_selection import RFECV\n",
    "from sklearn.svm import SVC\n",
    "from sklearn.model_selection import StratifiedKFold\n",
    "import matplotlib.pyplot as plt\n",
    "import pandas as pd\n",
    "\n",
    "iris_filename = 'datasets-uci-iris.csv'\n",
    "iris = pd.read_csv(iris_filename, sep=',', decimal='.',\n",
    "\theader=None,names= ['sepal_length', 'sepal_width', 'petal_length', 'petal_width','target'])\n",
    "\n",
    "estimator = SVC(kernel=\"linear\")\n",
    "sel = RFECV(estimator, step=1, cv=5)\n",
    "iris_reducido2 = sel.fit(iris.iloc[:,0:4],iris.iloc[:,4])\n",
    "print(sel.ranking_)\n",
    "print(sel.support_)\n",
    "print(\"Numero de caracteristicas seleccionadas : %d\" % sel.n_features_)\n"
   ]
  },
  {
   "cell_type": "code",
   "execution_count": 112,
   "metadata": {},
   "outputs": [
    {
     "name": "stdout",
     "output_type": "stream",
     "text": [
      "[0.94666667 0.96       0.96666667 0.98      ]\n"
     ]
    }
   ],
   "source": [
    "grid_scores = sel.cv_results_[\"mean_test_score\"]\n",
    "print(grid_scores)\n"
   ]
  },
  {
   "cell_type": "code",
   "execution_count": 113,
   "metadata": {},
   "outputs": [
    {
     "data": {
      "image/png": "[encoded data removed]",
      "text/plain": [
       "<Figure size 640x480 with 1 Axes>"
      ]
     },
     "metadata": {},
     "output_type": "display_data"
    }
   ],
   "source": [
    "# Plot number of features VS. cross-validation scores\n",
    "plt.figure()\n",
    "plt.xlabel(\"Numero de pasos en el algoritmo RFECV\")\n",
    "plt.ylabel(\"Score medio en test\")\n",
    "plt.plot(range(1, len(grid_scores) + 1), grid_scores)\n",
    "plt.show()\n"
   ]
  },
  {
   "cell_type": "code",
   "execution_count": 128,
   "metadata": {},
   "outputs": [
    {
     "name": "stdout",
     "output_type": "stream",
     "text": [
      "[41 38 25  6  9 32 26 40 17  3  1  1 20 33 19  8 37 56 36 43  7 27 21 31\n",
      " 35 28 55 22 13 29 12 51 44 34 53  2 15 16 23 24 46 30  4 11  1 10 14  5\n",
      " 18 49 39 42 50 47 58 52 57 48 45 54]\n",
      "[False False False False False False False False False False  True  True\n",
      " False False False False False False False False False False False False\n",
      " False False False False False False False False False False False False\n",
      " False False False False False False False False  True False False False\n",
      " False False False False False False False False False False False False]\n",
      "Numero de caracteristicas seleccionadas : 3\n",
      "Variables elegidas: (array([10, 11, 44]),)\n"
     ]
    }
   ],
   "source": [
    "sonar_filename = 'sonar_csv.csv'\n",
    "sonar = pd.read_csv(sonar_filename, sep=',', decimal='.')\n",
    "\n",
    "estimator = SVC(kernel=\"linear\")\n",
    "sel = RFECV(estimator, step=1, cv=5)\n",
    "sonar_reducido2 = sel.fit(sonar.iloc[:,:-1],sonar.iloc[:,-1])\n",
    "print(sel.ranking_)\n",
    "print(sel.support_)\n",
    "print(\"Numero de caracteristicas seleccionadas : %d\" % sel.n_features_)\n",
    "print(\"Variables elegidas:\",np.where(sel.support_))\n"
   ]
  },
  {
   "cell_type": "code",
   "execution_count": 108,
   "metadata": {},
   "outputs": [],
   "source": [
    "# print(sel.cv_results_)\n"
   ]
  },
  {
   "cell_type": "code",
   "execution_count": 117,
   "metadata": {},
   "outputs": [
    {
     "name": "stdout",
     "output_type": "stream",
     "text": [
      "[0.60116144 0.60046458 0.66852497 0.62996516 0.66817654 0.64912892\n",
      " 0.62508711 0.62508711 0.6203252  0.62984901 0.64924506 0.62984901\n",
      " 0.60603949 0.58675958 0.61080139 0.62555168 0.62090592 0.62555168\n",
      " 0.62555168 0.62078978 0.62555168 0.6253194  0.61126597 0.59651568\n",
      " 0.60638792 0.60150987 0.61114983 0.62078978 0.62055749 0.62055749\n",
      " 0.62055749 0.61579559 0.62055749 0.63495935 0.63495935 0.63495935\n",
      " 0.62520325 0.6300813  0.6300813  0.6300813  0.6300813  0.6300813\n",
      " 0.6300813  0.6300813  0.6253194  0.6300813  0.6253194  0.6300813\n",
      " 0.6300813  0.6300813  0.6253194  0.6253194  0.6253194  0.6253194\n",
      " 0.6253194  0.6253194  0.6253194  0.6253194  0.6253194  0.6253194 ]\n"
     ]
    },
    {
     "data": {
      "image/png": "[encoded data removed]",
      "text/plain": [
       "<Figure size 640x480 with 1 Axes>"
      ]
     },
     "metadata": {},
     "output_type": "display_data"
    }
   ],
   "source": [
    "grid_scores = sel.cv_results_[\"mean_test_score\"]\n",
    "print(grid_scores)\n",
    "# Plot number of features VS. cross-validation scores\n",
    "plt.figure()\n",
    "plt.xlabel(\"Numero de pasos en el algoritmo RFECV\")\n",
    "plt.ylabel(\"Score medio en test\")\n",
    "plt.plot(range(1, len(grid_scores) + 1), grid_scores)\n",
    "plt.show()\n"
   ]
  },
  {
   "cell_type": "markdown",
   "metadata": {},
   "source": [
    "### Model selector"
   ]
  },
  {
   "cell_type": "code",
   "execution_count": 119,
   "metadata": {},
   "outputs": [],
   "source": [
    "import numpy as np\n",
    "import matplotlib.pyplot as plt\n",
    "\n",
    "from sklearn.ensemble import ExtraTreesClassifier\n",
    "\n",
    "import pandas as pd\n",
    "iris_filename = 'datasets-uci-iris.csv'\n",
    "iris = pd.read_csv(iris_filename, sep=',', decimal='.',\n",
    "\theader=None,names= ['sepal_length', 'sepal_width', 'petal_length', 'petal_width','target'])\n"
   ]
  },
  {
   "cell_type": "code",
   "execution_count": 120,
   "metadata": {},
   "outputs": [
    {
     "name": "stdout",
     "output_type": "stream",
     "text": [
      "importancias: [0.09005113 0.06458695 0.40852606 0.43683587]\n",
      "Variables ordenadas:\n"
     ]
    }
   ],
   "source": [
    "\n",
    "# Clasificador basado en arboles de decision\n",
    "forest = ExtraTreesClassifier(n_estimators=250,\n",
    "                              random_state=0)\n",
    "\n",
    "# X, y son las variables de entrada y de salida del dataset\n",
    "X = iris.iloc[:,0:4]\n",
    "y = iris.iloc[:,4]\n",
    "\n",
    "forest.fit(X, y)\n",
    "importances = forest.feature_importances_\n",
    "print(\"importancias:\",importances)\n",
    "std = np.std([tree.feature_importances_ for tree in forest.estimators_],\n",
    "             axis=0)\n",
    "indices = np.argsort(importances)[::-1]\n",
    "\n",
    "# Variables ordenadas por importancia\n",
    "print(\"Variables ordenadas:\")\n"
   ]
  },
  {
   "cell_type": "code",
   "execution_count": 121,
   "metadata": {},
   "outputs": [
    {
     "name": "stdout",
     "output_type": "stream",
     "text": [
      "1. variable 3 (0.436836)\n",
      "2. variable 2 (0.408526)\n",
      "3. variable 0 (0.090051)\n",
      "4. variable 1 (0.064587)\n"
     ]
    },
    {
     "data": {
      "image/png": "[encoded data removed]",
      "text/plain": [
       "<Figure size 640x480 with 1 Axes>"
      ]
     },
     "metadata": {},
     "output_type": "display_data"
    }
   ],
   "source": [
    "\n",
    "for f in range(X.shape[1]):\n",
    "    print(\"%d. variable %d (%f)\" % (f + 1, indices[f], importances[indices[f]]))\n",
    "\n",
    "# Grafico con las importancias de las variables\n",
    "plt.figure()\n",
    "plt.title(\"Importancia de las variables\")\n",
    "plt.bar(range(X.shape[1]), importances[indices],\n",
    "       color=\"r\", yerr=std[indices], align=\"center\")\n",
    "plt.xticks(range(X.shape[1]), indices)\n",
    "plt.xlim([-1, X.shape[1]])\n",
    "plt.show()\n"
   ]
  },
  {
   "cell_type": "code",
   "execution_count": 122,
   "metadata": {},
   "outputs": [],
   "source": [
    "\n",
    "#\n",
    "# SONAR\n",
    "#\n",
    "sonar_filename = 'sonar_csv.csv'\n",
    "sonar = pd.read_csv(sonar_filename, sep=',', decimal='.')\n",
    "\n",
    "\n",
    "# X, y son las variables de entrada y de salida del dataset\n",
    "X = sonar.iloc[:,:-1]\n",
    "y = sonar.iloc[:,-1]\n"
   ]
  },
  {
   "cell_type": "code",
   "execution_count": 124,
   "metadata": {},
   "outputs": [
    {
     "name": "stdout",
     "output_type": "stream",
     "text": [
      "importancias: [0.01472082 0.01224943 0.0094484  0.01747739 0.01155439 0.01246314\n",
      " 0.01015444 0.01502204 0.02695784 0.03085849 0.04275437 0.03993147\n",
      " 0.02008296 0.01173135 0.01537397 0.01695023 0.01680394 0.01472078\n",
      " 0.01139478 0.0230092  0.02681104 0.01519846 0.01540327 0.01283279\n",
      " 0.01158387 0.01249206 0.0176917  0.02127883 0.01133377 0.01084055\n",
      " 0.01600518 0.012138   0.01287487 0.01551146 0.0150956  0.02843782\n",
      " 0.02317095 0.01190087 0.01292799 0.01149223 0.01087464 0.01606231\n",
      " 0.01987872 0.0190872  0.02610777 0.02024026 0.02185479 0.02262641\n",
      " 0.02786812 0.00864775 0.01802786 0.01562745 0.01059677 0.0133031\n",
      " 0.01127408 0.00924569 0.00895131 0.00838745 0.01321272 0.00944485]\n",
      "Variables ordenadas:\n",
      "1. variable 10 (0.042754)\n",
      "2. variable 11 (0.039931)\n",
      "3. variable 9 (0.030858)\n",
      "4. variable 35 (0.028438)\n",
      "5. variable 48 (0.027868)\n",
      "6. variable 8 (0.026958)\n",
      "7. variable 20 (0.026811)\n",
      "8. variable 44 (0.026108)\n",
      "9. variable 36 (0.023171)\n",
      "10. variable 19 (0.023009)\n",
      "11. variable 47 (0.022626)\n",
      "12. variable 46 (0.021855)\n",
      "13. variable 27 (0.021279)\n",
      "14. variable 45 (0.020240)\n",
      "15. variable 12 (0.020083)\n",
      "16. variable 42 (0.019879)\n",
      "17. variable 43 (0.019087)\n",
      "18. variable 50 (0.018028)\n",
      "19. variable 26 (0.017692)\n",
      "20. variable 3 (0.017477)\n",
      "21. variable 15 (0.016950)\n",
      "22. variable 16 (0.016804)\n",
      "23. variable 41 (0.016062)\n",
      "24. variable 30 (0.016005)\n",
      "25. variable 51 (0.015627)\n",
      "26. variable 33 (0.015511)\n",
      "27. variable 22 (0.015403)\n",
      "28. variable 14 (0.015374)\n",
      "29. variable 21 (0.015198)\n",
      "30. variable 34 (0.015096)\n",
      "31. variable 7 (0.015022)\n",
      "32. variable 0 (0.014721)\n",
      "33. variable 17 (0.014721)\n",
      "34. variable 53 (0.013303)\n",
      "35. variable 58 (0.013213)\n",
      "36. variable 38 (0.012928)\n",
      "37. variable 32 (0.012875)\n",
      "38. variable 23 (0.012833)\n",
      "39. variable 25 (0.012492)\n",
      "40. variable 5 (0.012463)\n",
      "41. variable 1 (0.012249)\n",
      "42. variable 31 (0.012138)\n",
      "43. variable 37 (0.011901)\n",
      "44. variable 13 (0.011731)\n",
      "45. variable 24 (0.011584)\n",
      "46. variable 4 (0.011554)\n",
      "47. variable 39 (0.011492)\n",
      "48. variable 18 (0.011395)\n",
      "49. variable 28 (0.011334)\n",
      "50. variable 54 (0.011274)\n",
      "51. variable 40 (0.010875)\n",
      "52. variable 29 (0.010841)\n",
      "53. variable 52 (0.010597)\n",
      "54. variable 6 (0.010154)\n",
      "55. variable 2 (0.009448)\n",
      "56. variable 59 (0.009445)\n",
      "57. variable 55 (0.009246)\n",
      "58. variable 56 (0.008951)\n",
      "59. variable 49 (0.008648)\n",
      "60. variable 57 (0.008387)\n"
     ]
    }
   ],
   "source": [
    "\n",
    "forest.fit(X, y)\n",
    "importances = forest.feature_importances_\n",
    "print(\"importancias:\",importances)\n",
    "std = np.std([tree.feature_importances_ for tree in forest.estimators_],\n",
    "             axis=0)\n",
    "indices = np.argsort(importances)[::-1]\n",
    "\n",
    "# Variables ordenadas por importancia\n",
    "print(\"Variables ordenadas:\")\n",
    "for f in range(X.shape[1]):\n",
    "    print(\"%d. variable %d (%f)\" % (f + 1, indices[f], importances[indices[f]]))\n"
   ]
  },
  {
   "cell_type": "code",
   "execution_count": 127,
   "metadata": {},
   "outputs": [
    {
     "data": {
      "image/png": "[encoded data removed]",
      "text/plain": [
       "<Figure size 2000x300 with 1 Axes>"
      ]
     },
     "metadata": {},
     "output_type": "display_data"
    }
   ],
   "source": [
    "# Grafico con las importancias de las variables\n",
    "plt.figure(figsize=(20,3))\n",
    "plt.title(\"Importancia de las variables\")\n",
    "plt.bar(range(X.shape[1]), importances[indices],\n",
    "       color=\"r\", yerr=std[indices], align=\"center\")\n",
    "plt.xticks(range(X.shape[1]), indices)\n",
    "plt.xlim([-1, X.shape[1]])\n",
    "plt.show()\n"
   ]
  }
 ],
 "metadata": {
  "kernelspec": {
   "display_name": "dataenv3.11",
   "language": "python",
   "name": "python3"
  },
  "language_info": {
   "codemirror_mode": {
    "name": "ipython",
    "version": 3
   },
   "file_extension": ".py",
   "mimetype": "text/x-python",
   "name": "python",
   "nbconvert_exporter": "python",
   "pygments_lexer": "ipython3",
   "version": "3.11.5"
  },
  "orig_nbformat": 4
 },
 "nbformat": 4,
 "nbformat_minor": 2
}
