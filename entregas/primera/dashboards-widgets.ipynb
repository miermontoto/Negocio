{
 "cells": [
  {
   "cell_type": "markdown",
   "metadata": {},
   "source": [
    "# Demostraciones prácticas de la entrega 1\n",
    "Juan Francisco Mier Montoto, UO283319"
   ]
  },
  {
   "cell_type": "code",
   "execution_count": null,
   "metadata": {},
   "outputs": [],
   "source": [
    "# Para ejecutar los siguientes ejemplos, se necesitan las siguientes librerías\n",
    "#!pip install sckit-learn\n",
    "#!pip install ipywidgets\n",
    "#!pip install voila\n",
    "#!pip install matplotlib\n"
   ]
  },
  {
   "cell_type": "code",
   "execution_count": 4,
   "metadata": {},
   "outputs": [
    {
     "data": {
      "text/plain": [
       "['sepal length (cm)',\n",
       " 'sepal width (cm)',\n",
       " 'petal length (cm)',\n",
       " 'petal width (cm)']"
      ]
     },
     "execution_count": 4,
     "metadata": {},
     "output_type": "execute_result"
    }
   ],
   "source": [
    "# Carga de dataset de ejemplo\n",
    "from sklearn.datasets import load_iris\n",
    "iris = load_iris()\n",
    "\n",
    "# Columnas del dataset\n",
    "iris.feature_names\n"
   ]
  },
  {
   "cell_type": "markdown",
   "metadata": {},
   "source": [
    "****"
   ]
  },
  {
   "cell_type": "markdown",
   "metadata": {},
   "source": [
    "# Ejemplo con `ipywidgets`\n",
    "`ipywidgets` es una librería que permite crear widgets interactivos en Jupyter Notebook. En este ejemplo se muestra cómo crear un widget que permite seleccionar una imagen de un conjunto de imágenes y mostrarla en pantalla."
   ]
  },
  {
   "cell_type": "code",
   "execution_count": 11,
   "metadata": {},
   "outputs": [
    {
     "data": {
      "application/vnd.jupyter.widget-view+json": {
       "model_id": "9cd515a9fa0e450a812f181a8212f727",
       "version_major": 2,
       "version_minor": 0
      },
      "text/plain": [
       "interactive(children=(Dropdown(description='Eje X:', options=(('sepal length (cm)', 0), ('sepal width (cm)', 1…"
      ]
     },
     "execution_count": 11,
     "metadata": {},
     "output_type": "execute_result"
    }
   ],
   "source": [
    "# Importar las bibliotecas necesarias\n",
    "import ipywidgets as widgets\n",
    "from sklearn import datasets\n",
    "import matplotlib.pyplot as plt\n",
    "\n",
    "# Cargamos el conjunto de datos Iris\n",
    "iris = datasets.load_iris()\n",
    "X = iris.data\n",
    "y = iris.target\n",
    "feature_names = iris.feature_names\n",
    "target_names = iris.target_names\n",
    "\n",
    "# Función para actualizar el gráfico basado en la característica seleccionada\n",
    "def plot_iris(feature_x_index, feature_y_index):\n",
    "    # Crear la figura y el eje\n",
    "    plt.figure(figsize=(8, 6))\n",
    "    # Graficar cada clase\n",
    "    for target, target_name in enumerate(target_names):\n",
    "        X_plot = X[y == target]\n",
    "        plt.scatter(X_plot[:, feature_x_index], X_plot[:, feature_y_index], label=target_name)\n",
    "    # Añadir leyendas y etiquetas\n",
    "    plt.legend()\n",
    "    plt.xlabel(feature_names[feature_x_index])\n",
    "    plt.ylabel(feature_names[feature_y_index])\n",
    "    plt.show()\n",
    "\n",
    "# Crear dos Dropdown widgets para las características\n",
    "dropdown_x = widgets.Dropdown(\n",
    "    options=[(feature, idx) for idx, feature in enumerate(feature_names)],\n",
    "    value=0,\n",
    "    description='Eje X:',\n",
    ")\n",
    "\n",
    "dropdown_y = widgets.Dropdown(\n",
    "    options=[(feature, idx) for idx, feature in enumerate(feature_names)],\n",
    "    value=1,\n",
    "    description='Eje Y:',\n",
    ")\n",
    "\n",
    "# Widget interactivo\n",
    "widgets.interactive(plot_iris, feature_x_index=dropdown_x, feature_y_index=dropdown_y)\n"
   ]
  }
 ],
 "metadata": {
  "kernelspec": {
   "display_name": "Python 3",
   "language": "python",
   "name": "python3"
  },
  "language_info": {
   "codemirror_mode": {
    "name": "ipython",
    "version": 3
   },
   "file_extension": ".py",
   "mimetype": "text/x-python",
   "name": "python",
   "nbconvert_exporter": "python",
   "pygments_lexer": "ipython3",
   "version": "3.11.6"
  }
 },
 "nbformat": 4,
 "nbformat_minor": 2
}
