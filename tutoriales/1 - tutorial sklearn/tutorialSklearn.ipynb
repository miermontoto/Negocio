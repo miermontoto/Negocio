{
 "cells": [
  {
   "cell_type": "code",
   "execution_count": 2,
   "metadata": {},
   "outputs": [
    {
     "name": "stdout",
     "output_type": "stream",
     "text": [
      "                  Formatted Date        Summary Precip Type  Temperature (C)  \\\n",
      "0  2006-04-01 00:00:00.000 +0200  Partly Cloudy        rain         9.472222   \n",
      "1  2006-04-01 01:00:00.000 +0200  Partly Cloudy        rain         9.355556   \n",
      "2  2006-04-01 02:00:00.000 +0200  Mostly Cloudy        rain         9.377778   \n",
      "3  2006-04-01 03:00:00.000 +0200  Partly Cloudy        rain         8.288889   \n",
      "4  2006-04-01 04:00:00.000 +0200  Mostly Cloudy        rain         8.755556   \n",
      "\n",
      "   Apparent Temperature (C)  Humidity  Wind Speed (km/h)  \\\n",
      "0                  7.388889      0.89            14.1197   \n",
      "1                  7.227778      0.86            14.2646   \n",
      "2                  9.377778      0.89             3.9284   \n",
      "3                  5.944444      0.83            14.1036   \n",
      "4                  6.977778      0.83            11.0446   \n",
      "\n",
      "   Wind Bearing (degrees)  Visibility (km)  Loud Cover  Pressure (millibars)  \\\n",
      "0                   251.0          15.8263         0.0               1015.13   \n",
      "1                   259.0          15.8263         0.0               1015.63   \n",
      "2                   204.0          14.9569         0.0               1015.94   \n",
      "3                   269.0          15.8263         0.0               1016.41   \n",
      "4                   259.0          15.8263         0.0               1016.51   \n",
      "\n",
      "                       Daily Summary  \n",
      "0  Partly cloudy throughout the day.  \n",
      "1  Partly cloudy throughout the day.  \n",
      "2  Partly cloudy throughout the day.  \n",
      "3  Partly cloudy throughout the day.  \n",
      "4  Partly cloudy throughout the day.  \n"
     ]
    }
   ],
   "source": [
    "import pandas as pd\n",
    "df = pd.read_csv(\"weatherHistory.csv\")\n",
    "print(df.head())"
   ]
  },
  {
   "cell_type": "code",
   "execution_count": 4,
   "metadata": {},
   "outputs": [],
   "source": [
    "df['Formatted Date'] = pd.to_datetime(df['Formatted Date'],  utc=True,)\n",
    "df['year'] = df['Formatted Date'].dt.year\n",
    "df['month'] = df['Formatted Date'].dt.month\n",
    "df['day'] = df['Formatted Date'].dt.day"
   ]
  },
  {
   "cell_type": "code",
   "execution_count": 5,
   "metadata": {},
   "outputs": [
    {
     "name": "stdout",
     "output_type": "stream",
     "text": [
      "             Formatted Date        Summary Precip Type  Temperature (C)  \\\n",
      "0 2006-03-31 22:00:00+00:00  Partly Cloudy        rain         9.472222   \n",
      "1 2006-03-31 23:00:00+00:00  Partly Cloudy        rain         9.355556   \n",
      "2 2006-04-01 00:00:00+00:00  Mostly Cloudy        rain         9.377778   \n",
      "3 2006-04-01 01:00:00+00:00  Partly Cloudy        rain         8.288889   \n",
      "4 2006-04-01 02:00:00+00:00  Mostly Cloudy        rain         8.755556   \n",
      "\n",
      "   Apparent Temperature (C)  Humidity  Wind Speed (km/h)  \\\n",
      "0                  7.388889      0.89            14.1197   \n",
      "1                  7.227778      0.86            14.2646   \n",
      "2                  9.377778      0.89             3.9284   \n",
      "3                  5.944444      0.83            14.1036   \n",
      "4                  6.977778      0.83            11.0446   \n",
      "\n",
      "   Wind Bearing (degrees)  Visibility (km)  Loud Cover  Pressure (millibars)  \\\n",
      "0                   251.0          15.8263         0.0               1015.13   \n",
      "1                   259.0          15.8263         0.0               1015.63   \n",
      "2                   204.0          14.9569         0.0               1015.94   \n",
      "3                   269.0          15.8263         0.0               1016.41   \n",
      "4                   259.0          15.8263         0.0               1016.51   \n",
      "\n",
      "                       Daily Summary  year  month  day  \n",
      "0  Partly cloudy throughout the day.  2006      3   31  \n",
      "1  Partly cloudy throughout the day.  2006      3   31  \n",
      "2  Partly cloudy throughout the day.  2006      4    1  \n",
      "3  Partly cloudy throughout the day.  2006      4    1  \n",
      "4  Partly cloudy throughout the day.  2006      4    1  \n"
     ]
    }
   ],
   "source": [
    "print(df.head())"
   ]
  },
  {
   "cell_type": "code",
   "execution_count": 6,
   "metadata": {},
   "outputs": [],
   "source": [
    "import numpy as np\n",
    "X = np.array(df[[ 'Humidity', 'year', 'month', 'day', 'Pressure (millibars)', 'Visibility (km)', 'Wind Bearing (degrees)']])\n",
    "y = np.array(df['Temperature (C)'])"
   ]
  },
  {
   "cell_type": "code",
   "execution_count": 8,
   "metadata": {},
   "outputs": [
    {
     "name": "stdout",
     "output_type": "stream",
     "text": [
      "[[8.90000e-01 2.00600e+03 3.00000e+00 ... 1.01513e+03 1.58263e+01\n",
      "  2.51000e+02]\n",
      " [8.60000e-01 2.00600e+03 3.00000e+00 ... 1.01563e+03 1.58263e+01\n",
      "  2.59000e+02]\n",
      " [8.90000e-01 2.00600e+03 4.00000e+00 ... 1.01594e+03 1.49569e+01\n",
      "  2.04000e+02]\n",
      " ...\n",
      " [5.60000e-01 2.01600e+03 9.00000e+00 ... 1.01566e+03 1.61000e+01\n",
      "  3.00000e+01]\n",
      " [6.00000e-01 2.01600e+03 9.00000e+00 ... 1.01595e+03 1.61000e+01\n",
      "  2.00000e+01]\n",
      " [6.10000e-01 2.01600e+03 9.00000e+00 ... 1.01616e+03 1.55204e+01\n",
      "  3.90000e+01]]\n"
     ]
    }
   ],
   "source": [
    "print(X)"
   ]
  },
  {
   "cell_type": "code",
   "execution_count": 9,
   "metadata": {},
   "outputs": [
    {
     "name": "stdout",
     "output_type": "stream",
     "text": [
      "[ 9.47222222  9.35555556  9.37777778 ... 22.03888889 21.52222222\n",
      " 20.43888889]\n"
     ]
    }
   ],
   "source": [
    "print(y)"
   ]
  },
  {
   "cell_type": "code",
   "execution_count": 7,
   "metadata": {},
   "outputs": [],
   "source": [
    "from sklearn.model_selection import train_test_split\n",
    "X_train, X_test, y_train, y_test = train_test_split(X, y, test_size = 0.2, random_state = 42)"
   ]
  },
  {
   "cell_type": "code",
   "execution_count": 8,
   "metadata": {},
   "outputs": [
    {
     "name": "stdout",
     "output_type": "stream",
     "text": [
      "[[9.60000e-01 2.01000e+03 9.00000e+00 ... 1.01497e+03 5.13590e+00\n",
      "  0.00000e+00]\n",
      " [6.70000e-01 2.01300e+03 3.00000e+00 ... 1.01007e+03 1.13988e+01\n",
      "  3.02000e+02]\n",
      " [9.70000e-01 2.01600e+03 6.00000e+00 ... 1.01024e+03 1.46832e+01\n",
      "  2.62000e+02]\n",
      " ...\n",
      " [8.10000e-01 2.01400e+03 1.10000e+01 ... 1.01039e+03 8.00170e+00\n",
      "  1.08000e+02]\n",
      " [8.20000e-01 2.00600e+03 8.00000e+00 ... 1.01244e+03 9.98200e+00\n",
      "  1.21000e+02]\n",
      " [9.00000e-01 2.00700e+03 1.10000e+01 ... 1.01548e+03 1.40875e+01\n",
      "  2.23000e+02]]\n"
     ]
    }
   ],
   "source": [
    "print(X_train)\n"
   ]
  },
  {
   "cell_type": "code",
   "execution_count": 10,
   "metadata": {},
   "outputs": [
    {
     "ename": "NameError",
     "evalue": "name 'X_test' is not defined",
     "output_type": "error",
     "traceback": [
      "\u001b[0;31m---------------------------------------------------------------------------\u001b[0m",
      "\u001b[0;31mNameError\u001b[0m                                 Traceback (most recent call last)",
      "\u001b[1;32m/home/mier/uo/y4t1/Negocio/tutoriales/1 - tutorial sklearn/tutorialSklearn.ipynb Cell 9\u001b[0m line \u001b[0;36m1\n\u001b[0;32m----> <a href='vscode-notebook-cell:/home/mier/uo/y4t1/Negocio/tutoriales/1%20-%20tutorial%20sklearn/tutorialSklearn.ipynb#X11sZmlsZQ%3D%3D?line=0'>1</a>\u001b[0m \u001b[39mprint\u001b[39m(X_test)\n",
      "\u001b[0;31mNameError\u001b[0m: name 'X_test' is not defined"
     ]
    }
   ],
   "source": [
    "print(X_test)"
   ]
  },
  {
   "cell_type": "code",
   "execution_count": 10,
   "metadata": {},
   "outputs": [
    {
     "name": "stdout",
     "output_type": "stream",
     "text": [
      "Mean Squared Error: 49.36168647190934\n"
     ]
    }
   ],
   "source": [
    "from sklearn.linear_model import LinearRegression\n",
    "reg = LinearRegression()\n",
    "reg.fit(X_train, y_train)\n",
    "y_pred = reg.predict(X_test)\n",
    "from sklearn import metrics\n",
    "print('Mean Squared Error:', metrics.mean_squared_error(y_test, y_pred))"
   ]
  },
  {
   "cell_type": "code",
   "execution_count": 11,
   "metadata": {
    "scrolled": true
   },
   "outputs": [
    {
     "name": "stdout",
     "output_type": "stream",
     "text": [
      "Mean Squared Error: 3.135536232317976\n"
     ]
    }
   ],
   "source": [
    "from sklearn.ensemble import RandomForestRegressor\n",
    "reg_rf = RandomForestRegressor()\n",
    "reg_rf.fit(X_train, y_train)\n",
    "y_pred = reg_rf.predict(X_test)\n",
    "from sklearn import metrics\n",
    "print('Mean Squared Error:', metrics.mean_squared_error(y_test, y_pred))"
   ]
  },
  {
   "cell_type": "code",
   "execution_count": 12,
   "metadata": {},
   "outputs": [
    {
     "name": "stdout",
     "output_type": "stream",
     "text": [
      "   Importance                Features\n",
      "0    0.371213                Humidity\n",
      "1    0.036066                    year\n",
      "2    0.457889                   month\n",
      "3    0.043316                     day\n",
      "4    0.050280    Pressure (millibars)\n",
      "5    0.019393         Visibility (km)\n",
      "6    0.021843  Wind Bearing (degrees)\n"
     ]
    }
   ],
   "source": [
    "feature_df = pd.DataFrame({'Importance':reg_rf.feature_importances_, 'Features': [ 'Humidity', 'year', 'month', 'day', 'Pressure (millibars)', 'Visibility (km)', 'Wind Bearing (degrees)'] })\n",
    "print(feature_df)"
   ]
  },
  {
   "cell_type": "code",
   "execution_count": 13,
   "metadata": {},
   "outputs": [
    {
     "name": "stdout",
     "output_type": "stream",
     "text": [
      "Mean Squared Error: 17.63594760724505\n"
     ]
    }
   ],
   "source": [
    "from sklearn.svm import SVR\n",
    "df = df.head(100)\n",
    "Xsvr = np.array(df[[ 'Humidity', 'year', 'month', 'day', 'Pressure (millibars)', 'Visibility (km)', 'Wind Bearing (degrees)']])\n",
    "ysvr = np.array(df['Temperature (C)'])\n",
    "Xsvr_train, Xsvr_test, ysvr_train, ysvr_test = train_test_split(Xsvr, ysvr, test_size = 0.2, random_state = 42)\n",
    "reg_svr = SVR()\n",
    "reg_svr.fit(Xsvr_train, ysvr_train)\n",
    "y_pred = reg_svr.predict(Xsvr_test)\n",
    "from sklearn import metrics\n",
    "print('Mean Squared Error:', metrics.mean_squared_error(ysvr_test, y_pred))"
   ]
  },
  {
   "cell_type": "code",
   "execution_count": 14,
   "metadata": {},
   "outputs": [
    {
     "name": "stdout",
     "output_type": "stream",
     "text": [
      "Mean Squared Error: 28.606394557815296\n"
     ]
    }
   ],
   "source": [
    "from sklearn.neighbors import KNeighborsRegressor\n",
    "reg_knn = KNeighborsRegressor()\n",
    "reg_knn.fit(X_train, y_train)\n",
    "y_pred = reg_knn.predict(X_test)\n",
    "from sklearn import metrics\n",
    "print('Mean Squared Error:', metrics.mean_squared_error(y_test, y_pred))"
   ]
  }
 ],
 "metadata": {
  "interpreter": {
   "hash": "17f99be343eb7e235f0143e363f1bb00bcb04a7242bae0153ebfdd9d87ce8434"
  },
  "kernelspec": {
   "display_name": "Python 3.8.6 64-bit ('dataenv3.8': venv)",
   "name": "python3"
  },
  "language_info": {
   "codemirror_mode": {
    "name": "ipython",
    "version": 3
   },
   "file_extension": ".py",
   "mimetype": "text/x-python",
   "name": "python",
   "nbconvert_exporter": "python",
   "pygments_lexer": "ipython3",
   "version": "3.11.5"
  }
 },
 "nbformat": 4,
 "nbformat_minor": 4
}
