{
 "cells": [
  {
   "cell_type": "markdown",
   "metadata": {},
   "source": [
    "# Práctica 2: Selección de características con sklearn\n",
    "La selección de características peude usarse para reducir el volumen de un conjunto de datos y por tanto aumentar la velocidad con la que los datos pueden procesarse, o bien para mejorar la precisión de un algoritmo de aprendizaje, eliminando las variables que causen errores en el modelo.\n",
    "\n",
    "## Modelos\n",
    "- IRIS: Los datos están en el fichero siguiente: `datasets-uci-iris.csv`\n",
    "- LETTER: Los datos están en el fichero siguiente: `datasets-uci-letter.csv`\n",
    "- SINTETICO: El dataset se genera artificialmente:\n",
    "```python\n",
    "from sklearn.datasets import make_classification \n",
    "X, y = make_classification(n_samples=1000, \n",
    "                           n_features=10, \n",
    "                           n_informative=3, \n",
    "                           n_redundant=0, \n",
    "                           n_repeated=0, \n",
    "                           n_classes=2, \n",
    "                           random_state=0, \n",
    "                           shuffle=False) \n",
    "```\n",
    "\n",
    "Los datasets que estén contenidos en ficheros .csv se cargarán en memoria en un dataframe pandas (nota: si el fichero csv incluye  cabecera, no son necesarios los argumentos \"header\" ni \"names\")"
   ]
  },
  {
   "cell_type": "code",
   "execution_count": 1,
   "metadata": {},
   "outputs": [
    {
     "name": "stdout",
     "output_type": "stream",
     "text": [
      "Iris shape: (150, 4)\n",
      "Letter shape: (20000, 16)\n",
      "Synthetic shape: (1000, 10)\n"
     ]
    }
   ],
   "source": [
    "import datasets.datasets_synthetic\n",
    "import pandas as pd\n",
    "import utils\n",
    "\n",
    "# Carga inicial de datasets\n",
    "iris = pd.read_csv('datasets/datasets-uci-iris.csv', sep=',', decimal='.', header=None, names=['sepal_length', 'sepal_width', 'petal_length', 'petal_width', 'target'])\n",
    "letter = pd.read_csv('datasets/datasets-uci-letter.csv', sep=',', decimal='.')\n",
    "synthetic = datasets.datasets_synthetic.gen()\n",
    "\n",
    "iris_x, iris_y = utils.slice(iris)\n",
    "letter_x, letter_y = utils.slice(letter)\n",
    "synthetic_x = synthetic[0]\n",
    "synthetic_y = synthetic[1]\n",
    "\n",
    "print(f\"Iris shape: {iris_x.shape}\")\n",
    "print(f\"Letter shape: {letter_x.shape}\")\n",
    "print(f\"Synthetic shape: {synthetic_x.shape}\")\n"
   ]
  },
  {
   "cell_type": "markdown",
   "metadata": {},
   "source": [
    "## Parte 1. Eliminación de variables con poca varianza\n",
    "Las variables cuyo valor sea constante o casi constante no aportan información al modelo y por tanto pueden ser eliminadas. Calcula la varianza de cada una de las variables para todos los datasets mencionados con la orden `np.var()` y anótala en el documento de prácticas.\n",
    "\n",
    "Elimina de cada dataset las variables cuya varianza sea menor que el 10% de la varianza de la variable más dispersa, eligiendo el valor de XX en un script como el que sigue. Anota en el documento el código que hayas escrito para realizar esta tarea.\n",
    "\n",
    "```python\n",
    "from sklearn.feature_selection import VarianceThreshold\n",
    "sel = VarianceThreshold(XX)\n",
    "# .iloc sirve para acceder al dataframe con indices numéricos\n",
    "iris_reducido = sel.fit_transform(iris.iloc[:,0:4])\n",
    "```"
   ]
  },
  {
   "cell_type": "code",
   "execution_count": 2,
   "metadata": {},
   "outputs": [
    {
     "name": "stdout",
     "output_type": "stream",
     "text": [
      "Iris reduced_by_var shape: (150, 3)\n",
      "Letter reduced_by_var shape: (20000, 16)\n"
     ]
    }
   ],
   "source": [
    "base = 0.1\n",
    "\n",
    "iris_var = utils.reduce_by_var(iris_x, base)\n",
    "letter_var = utils.reduce_by_var(letter_x, base)\n",
    "# synthetic_var = utils.reduce_by_var(synthetic_x, base)\n",
    "\n",
    "print(f\"Iris reduced_by_var shape: {iris_var.shape}\")\n",
    "print(f\"Letter reduced_by_var shape: {letter_var.shape}\")\n",
    "# print(f\"Synthetic reduced_by_var shape: {syntehtic_var.shape}\")\n"
   ]
  },
  {
   "cell_type": "markdown",
   "metadata": {},
   "source": [
    "## Parte 2. Eliminación de variables basada en estadísticos univariantes\n",
    "\n",
    "Hay diferentes estadísticos que miden la calidad de una variable. Scikit-learn tiene implementados, entre otros, los siguientes métodos:\n",
    "- `SelectKBest`: elimina todas las variables menos las k mejor valoradas.\n",
    "- `SelectPercentile`: elimina todas las variables menos el porcentaje indicado.\n",
    "\n",
    "Estos métodos hacen uso de una de las siguientes funciones para determinar si una variable\n",
    "es relevante:\n",
    "- Para regresión: `f_regression`\n",
    "- Para clasificación: `chi2` o `f_classif`\n",
    "\n",
    "El siguiente script realiza una selección de características sobre el problema Iris mediante el método `SelectKBest` con la función `chi2`. Aplica este método y `SelectPercentile` a todos los datasets de la práctica y anota las diferencias entre los mismos. Copia en el documento el código que hayas utilizado.\n",
    "```python\n",
    "from sklearn.feature_selection import SelectKBest\n",
    "from sklearn.feature_selection import chi2\n",
    "sel = SelectKBest(chi2,k=2)\n",
    "iris_reducido1 = sel.fit_transform(iris.iloc[:,0:4],iris.iloc[:,4])\n",
    "```"
   ]
  },
  {
   "cell_type": "code",
   "execution_count": 3,
   "metadata": {},
   "outputs": [
    {
     "name": "stdout",
     "output_type": "stream",
     "text": [
      "Iris reduced_with_univariate shape: (150, 2)\n",
      "Letter reduced_with_univariate shape: (20000, 2)\n"
     ]
    }
   ],
   "source": [
    "k = 2\n",
    "\n",
    "iris_uni = utils.reduce_with_univariate(iris_x, iris_y, k)\n",
    "letter_uni = utils.reduce_with_univariate(letter_x, letter_y, k)\n",
    "# synthetic_uni = utils.reduce_with_univariate(synthetic_x, synthetic_y, k)\n",
    "\n",
    "print(f\"Iris reduced_with_univariate shape: {iris_uni.shape}\")\n",
    "print(f\"Letter reduced_with_univariate shape: {letter_uni.shape}\")\n",
    "# print(f\"Synthetic reduced_with_univariate shape: {synthetic_uni.shape}\")\n"
   ]
  },
  {
   "cell_type": "markdown",
   "metadata": {},
   "source": [
    "## Parte 3. Eliminación recursiva de variables\n",
    "La eliminación recursiva de variables consiste en entrenar un modelo con todas las variables y determinar la importancia de cada una en el resultado. Se eliminan las variables con importancia menor y se repite el proceso. Mediante validación cruzada, se valora cada uno de los modelos que se vayan obteniendo y se determina el punto óptimo como aquél en el que el error del modelo sea menor.\n",
    "\n",
    "Es necesario que el clasificador/modelo de regresión utilizado proporcione una medida de la importancia de cada variable para poder emplear este método.\n",
    "\n",
    "```python\n",
    "from sklearn.feature_selection import RFECV\n",
    "from sklearn.svm import SVC\n",
    "estimator = SVC(kernel=\"linear\")\n",
    "sel = RFECV(estimator, step=1, cv=5)\n",
    "iris_reducido2 = sel.fit(iris.iloc[:,0:4],iris.iloc[:,4])\n",
    "print sel.ranking_\n",
    "print sel.support_\n",
    "```"
   ]
  },
  {
   "cell_type": "code",
   "execution_count": 6,
   "metadata": {},
   "outputs": [
    {
     "name": "stdout",
     "output_type": "stream",
     "text": [
      "Iris reduced_with_rfe shape: (150, 4)\n",
      "Synthetic reduced_with_rfe shape: (1000, 1)\n"
     ]
    }
   ],
   "source": [
    "from sklearn.feature_selection import RFECV\n",
    "from sklearn.svm import SVC\n",
    "\n",
    "estimator = SVC(kernel=\"linear\")\n",
    "selector = RFECV(estimator, step=1, cv=5)\n",
    "\n",
    "iris_rfe = utils.reduce_with_rfe(iris_x, iris_y)\n",
    "# letter_rfe = utils.reduce_with_rfe(letter_x, letter_y)\n",
    "synthetic_rfe = utils.reduce_with_rfe(synthetic_x, synthetic_y)\n",
    "\n",
    "print(f\"Iris reduced_with_rfe shape: {iris_rfe.shape}\")\n",
    "# print(f\"Letter reduced_with_rfe shape: {letter_rfe.shape}\")\n",
    "print(f\"Synthetic reduced_with_rfe shape: {synthetic_rfe.shape}\")\n"
   ]
  },
  {
   "cell_type": "markdown",
   "metadata": {},
   "source": [
    "## Parte 4. Eliminación de variables usando SelectFromModel\n",
    "Los árboles de decisión no necesariamente emplean todas las variables. La fracción de veces que una variable es elegida tras lanzar repetidamente un árbol de decisión con semilla\n",
    "aleatoria es una medida de la importancia de la variable. Por medio del siguiente script, ordena la importancia de las variables en todos los problemas de esta práctica. Anota los\n",
    "resultados y las gráficas obtenidas.\n",
    "\n",
    "```python\n",
    "import numpy as np\n",
    "import matplotlib.pyplot as plt\n",
    "from sklearn.ensemble import ExtraTreesClassifier\n",
    "\n",
    "# Clasificador basado en arboles de decision\n",
    "forest = ExtraTreesClassifier(n_estimators=250, random_state=0)\n",
    "\n",
    "# X, y son las variables de entrada y de salida del dataset\n",
    "forest.fit(X, y)\n",
    "importances = forest.feature_importances_\n",
    "std = np.std([tree.feature_importances_ for tree in forest.estimators_], axis=0)\n",
    "indices = np.argsort(importances)[::-1]\n",
    "\n",
    "# Variables ordenadas por importancia\n",
    "print(\"Variables ordenadas:\")\n",
    "for f in range(X.shape[1]):\n",
    "\tprint(\"%d. variable %d (%f)\" % (f + 1, indices[f], importances[indices[f]]))\n",
    "\n",
    "# Grafico con las importancias de las variables\n",
    "plt.figure()\n",
    "plt.title(\"Importancia de las variables\")\n",
    "plt.bar(range(X.shape[1]), importances[indices], color=\"r\", yerr=std[indices], align=\"center\")\n",
    "plt.xticks(range(X.shape[1]), indices)\n",
    "plt.xlim([-1, X.shape[1]])\n",
    "plt.show()\n",
    "```"
   ]
  },
  {
   "cell_type": "code",
   "execution_count": 8,
   "metadata": {},
   "outputs": [
    {
     "name": "stdout",
     "output_type": "stream",
     "text": [
      "Iris Feature ranking:\n",
      "1. feature 3 (0.43683586576936745)\n",
      "2. feature 2 (0.4085260625660277)\n",
      "3. feature 0 (0.09005112630896284)\n",
      "4. feature 1 (0.06458694535564206)\n"
     ]
    },
    {
     "data": {
      "image/png": "[encoded data removed]",
      "text/plain": [
       "<Figure size 640x480 with 1 Axes>"
      ]
     },
     "metadata": {},
     "output_type": "display_data"
    }
   ],
   "source": [
    "import matplotlib.pyplot as plt\n",
    "from sklearn.ensemble import ExtraTreesClassifier\n",
    "import numpy as np\n",
    "\n",
    "forest = ExtraTreesClassifier(n_estimators=250, random_state=0)\n",
    "\n",
    "forest.fit(iris_x, iris_y)\n",
    "iris_importances = forest.feature_importances_\n",
    "std = np.std([tree.feature_importances_ for tree in forest.estimators_], axis=0)\n",
    "indices = np.argsort(iris_importances)[::-1]\n",
    "\n",
    "# Variables ordenadas por importancia\n",
    "print(\"Iris Feature ranking:\")\n",
    "for f in range(iris_x.shape[1]):\n",
    "\tprint(f\"{f + 1}. feature {indices[f]} ({iris_importances[indices[f]]})\")\n",
    "\n",
    "plt.figure()\n",
    "plt.title(\"Iris Feature importances\")\n",
    "plt.bar(range(iris_x.shape[1]), iris_importances[indices], color=\"r\", yerr=std[indices], align=\"center\")\n",
    "plt.xticks(range(iris_x.shape[1]), indices)\n",
    "plt.xlim([-1, iris_x.shape[1]])\n",
    "plt.show()\n"
   ]
  }
 ],
 "metadata": {
  "kernelspec": {
   "display_name": "Python 3",
   "language": "python",
   "name": "python3"
  },
  "language_info": {
   "codemirror_mode": {
    "name": "ipython",
    "version": 3
   },
   "file_extension": ".py",
   "mimetype": "text/x-python",
   "name": "python",
   "nbconvert_exporter": "python",
   "pygments_lexer": "ipython3",
   "version": "3.11.5"
  }
 },
 "nbformat": 4,
 "nbformat_minor": 2
}
